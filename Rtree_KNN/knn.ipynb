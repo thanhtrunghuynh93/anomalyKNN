{
 "cells": [
  {
   "cell_type": "code",
   "execution_count": 1,
   "metadata": {},
   "outputs": [
    {
     "ename": "ModuleNotFoundError",
     "evalue": "No module named 'rect'",
     "output_type": "error",
     "traceback": [
      "\u001b[1;31m---------------------------------------------------------------------------\u001b[0m",
      "\u001b[1;31mModuleNotFoundError\u001b[0m                       Traceback (most recent call last)",
      "\u001b[1;32m<ipython-input-1-ec707481682e>\u001b[0m in \u001b[0;36m<module>\u001b[1;34m\u001b[0m\n\u001b[0;32m      7\u001b[0m \u001b[1;31m#\u001b[0m\u001b[1;33m\u001b[0m\u001b[1;33m\u001b[0m\u001b[1;33m\u001b[0m\u001b[0m\n\u001b[0;32m      8\u001b[0m \u001b[1;32mfrom\u001b[0m \u001b[0mrtree\u001b[0m \u001b[1;32mimport\u001b[0m \u001b[1;33m*\u001b[0m\u001b[1;33m\u001b[0m\u001b[1;33m\u001b[0m\u001b[0m\n\u001b[1;32m----> 9\u001b[1;33m \u001b[1;32mfrom\u001b[0m \u001b[0mrect\u001b[0m \u001b[1;32mimport\u001b[0m \u001b[1;33m*\u001b[0m\u001b[1;33m\u001b[0m\u001b[1;33m\u001b[0m\u001b[0m\n\u001b[0m\u001b[0;32m     10\u001b[0m \u001b[1;31m#from operator import itemgetter\u001b[0m\u001b[1;33m\u001b[0m\u001b[1;33m\u001b[0m\u001b[1;33m\u001b[0m\u001b[0m\n\u001b[0;32m     11\u001b[0m \u001b[1;31m#import math\u001b[0m\u001b[1;33m\u001b[0m\u001b[1;33m\u001b[0m\u001b[1;33m\u001b[0m\u001b[0m\n",
      "\u001b[1;31mModuleNotFoundError\u001b[0m: No module named 'rect'"
     ]
    }
   ],
   "source": [
    "#### K-NearestNeighbours in R-tree\n",
    "## Authors: Duong Le - Trung Huynh\n",
    "## Features: 2-D R-tree\n",
    "##  \n",
    "## Version: 1.6\n",
    "# ----------------------------------------------------\n",
    "#  \n",
    "from rtree import *\n",
    "from rect import *\n",
    "#from operator import itemgetter\n",
    "#import math"
   ]
  },
  {
   "cell_type": "code",
   "execution_count": 2,
   "metadata": {},
   "outputs": [],
   "source": [
    "class nearest_neighbours:\n",
    "    #Mindist from a Point to a Rectangle\n",
    "    def __init__(self,point,r,k=1):\n",
    "        self.neighbour=[None for i in range(k)]\n",
    "        self.md=[float('inf') for i in range(k)]\n",
    "        self.max=[float('inf'),0]\n",
    "        self.knn(point,r.root)\n",
    "        l=[]\n",
    "        for i in range(k):\n",
    "            l.append((self.neighbour[i],int(self.md[i])))\n",
    "        l.sort(key=lambda x:x[1])\n",
    "        print(l)\n",
    "\n",
    "    def knn(self,point,node):\n",
    "        '''\n",
    "        Compare the current mindist to the rectangle and \n",
    "        only visit if there is a possiblility of the distance being less\n",
    "        '''\n",
    "        if type(node)==Rnode_Internal:\n",
    "            for i in range(4):\n",
    "                if node.p[i]==None:\n",
    "                    return\n",
    "                m=self.mindist(point,node.bb[i])\n",
    "                if m<self.max[0]:\n",
    "                    self.knn(point,node.p[i])\n",
    "\n",
    "        if type(node)==Rnode_Leaf:\n",
    "            for i in range(4):\n",
    "                if node.p[i]==None:\n",
    "                    return\n",
    "                m=self.mindist(point,node.bb[i])\n",
    "                if m<self.max[0]:\n",
    "                    self.neighbour[self.max[1]]=node.p[i]\n",
    "                    self.md[self.max[1]]=m\n",
    "                    #print(m)\n",
    "                    self.max=[self.md[0],0]\n",
    "                    for i in range(len(self.md)):\n",
    "                        if self.md[i]>self.max[0]:\n",
    "                            self.max[0]=self.md[i]\n",
    "                            self.max[1]=i\n",
    "\n",
    "    def mindist(self,point,rec):\n",
    "        dist=0\n",
    "        if rec.ux>point.x:\n",
    "            dist+=(point.x-rec.ux)**2\n",
    "        elif rec.lx<point.x:\n",
    "            dist+=(point.x-rec.lx)**2\n",
    "        if rec.uy<point.y:\n",
    "            dist+=(point.y-rec.uy)**2\n",
    "        elif rec.ly>point.y:\n",
    "            dist+=(point.y-rec.ly)**2\n",
    "        return dist"
   ]
  },
  {
   "cell_type": "code",
   "execution_count": null,
   "metadata": {},
   "outputs": [],
   "source": []
  }
 ],
 "metadata": {
  "kernelspec": {
   "display_name": "Python 3",
   "language": "python",
   "name": "python3"
  },
  "language_info": {
   "codemirror_mode": {
    "name": "ipython",
    "version": 3
   },
   "file_extension": ".py",
   "mimetype": "text/x-python",
   "name": "python",
   "nbconvert_exporter": "python",
   "pygments_lexer": "ipython3",
   "version": "3.7.6"
  }
 },
 "nbformat": 4,
 "nbformat_minor": 4
}
