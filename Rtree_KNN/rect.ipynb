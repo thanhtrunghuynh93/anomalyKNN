{
 "cells": [
  {
   "cell_type": "code",
   "execution_count": 1,
   "metadata": {},
   "outputs": [],
   "source": [
    "### Rectangle\n",
    "#### R-tree\n",
    "## Author: Duong Le - Trung Huynh\n",
    "## Features: 2-D R-tree\n",
    "##  \n",
    "## Version: 1.6\n",
    "# ----------------------------------------------------\n",
    "#  \n",
    "import math,random\n",
    "import matplotlib.pyplot as plt"
   ]
  },
  {
   "cell_type": "code",
   "execution_count": 2,
   "metadata": {},
   "outputs": [],
   "source": [
    "def rr():\n",
    "    return random.uniform(0.0,10.0)"
   ]
  },
  {
   "cell_type": "code",
   "execution_count": 3,
   "metadata": {},
   "outputs": [],
   "source": [
    "class Point:\n",
    "\n",
    "    def __init__(self,x,y):\n",
    "        self.x = x\n",
    "        self.y = y"
   ]
  },
  {
   "cell_type": "code",
   "execution_count": 4,
   "metadata": {},
   "outputs": [],
   "source": [
    "class Rectangle:\n",
    "    '''\n",
    "    Upper left(u) corner to Lower right(l) corner of a Rectangle\n",
    "    '''\n",
    "    __slots__ = (\"ux\",\"uy\",\"lx\",\"ly\", \"swapped_x\", \"swapped_y\")\n",
    "\n",
    "    def __init__(self,ux,uy,lx,ly):\n",
    "        self.swapped_x = (lx < ux)\n",
    "        self.swapped_y = (uy < ly)\n",
    "        self.ux = ux\n",
    "        self.uy = uy\n",
    "        self.lx = lx\n",
    "        self.ly = ly\n",
    "        if self.swapped_x: \n",
    "            self.lx,self.ux = self.ux,self.lx\n",
    "            print(\"ux,uy,lx,ly: swapped ux<-->lx!\")\n",
    "        if self.swapped_y: \n",
    "            self.ly,self.uy = self.uy,self.ly\n",
    "            print(\"ux,uy,lx,ly: swapped uy<-->ly!\")\n",
    " \n",
    "    def coords(self):\n",
    "        return self.ux,self.uy,self.lx,self.ly\n",
    "\n",
    "    def size(self):\n",
    "        w = self.lx - self.ux\n",
    "        h = self.uy - self.ly\n",
    "        return w * h\n",
    "\n",
    "    def is_present(self,item):\n",
    "        #Check is-present of Point/Rectangle\n",
    "        if (type(item)==Point):\n",
    "            if (self.ux<=item.x<=self.lx and self.ly<=item.y<=self.uy):\n",
    "                return True\n",
    "        elif (type(item)==Rectangle):\n",
    "            if(self.ux<=item.ux<=self.lx and self.ly<=item.uy<=self.uy and self.ux<=item.lx<=self.lx and self.ly<=item.ly<=self.uy):\n",
    "                return True\n",
    "        return False\n",
    "\n",
    "    def __str__(self):\n",
    "        return (\"Rectange:  \"+str(self.ux)+\" \"+str(self.uy)+\" \"+str(self.lx)+\" \"+str(self.ly)+\" \\n\")\n",
    "\n",
    "    def rectgen(self, size=10):\n",
    "        #Generate random rectangles, step == 10.0\n",
    "        self.ux,self.uy,w,h = rr(),rr(),random.uniform(0,size),random.uniform(0,size)\n",
    "        #self.lx = self.ux + w\n",
    "        #self.ly = self.uy - h\n",
    "        r = Rectangle(self.ux,self.uy,self.ux + w,self.uy - h)\n",
    "        return r\n",
    "    \n",
    "    def rect_draw(self):\n",
    "        plt.axes()\n",
    "        re = plt.Rectangle((self.ux,self.ly), self.lx, self.uy, fc='blue',ec=\"red\")\n",
    "        plt.gca().add_patch(re)\n",
    "        plt.axis('scaled')\n",
    "        plt.show()\n",
    "        return"
   ]
  },
  {
   "cell_type": "code",
   "execution_count": 5,
   "metadata": {},
   "outputs": [
    {
     "data": {
      "text/plain": [
       "'\\nclass rect_generate():\\n    \\n    #Generate random rectangles\\n    \\n    def rectgen(self, size=10.0):\\n        #Generate random rectangles, step == 10.0\\n        self.ux,self.uy,w,h = rr(),rr(),random.uniform(0.0,size), random.uniform(0.0,size)\\n        self.uy = self.ux + w\\n        self.ly = self.lx - h\\n        r = Rectangle(self.ux,self.uy,self.lx,self.ly)\\n        #assert(not self.swapped_x)\\n        #assert(not self.swapped_y)\\n        return r\\n'"
      ]
     },
     "execution_count": 5,
     "metadata": {},
     "output_type": "execute_result"
    }
   ],
   "source": [
    "'''\n",
    "class rect_generate():\n",
    "    \n",
    "    #Generate random rectangles\n",
    "    \n",
    "    def rectgen(self, size=10.0):\n",
    "        #Generate random rectangles, step == 10.0\n",
    "        self.ux,self.uy,w,h = rr(),rr(),random.uniform(0.0,size), random.uniform(0.0,size)\n",
    "        self.uy = self.ux + w\n",
    "        self.ly = self.lx - h\n",
    "        r = Rectangle(self.ux,self.uy,self.lx,self.ly)\n",
    "        #assert(not self.swapped_x)\n",
    "        #assert(not self.swapped_y)\n",
    "        return r\n",
    "'''"
   ]
  },
  {
   "cell_type": "code",
   "execution_count": null,
   "metadata": {},
   "outputs": [],
   "source": []
  }
 ],
 "metadata": {
  "kernelspec": {
   "display_name": "Python 3",
   "language": "python",
   "name": "python3"
  },
  "language_info": {
   "codemirror_mode": {
    "name": "ipython",
    "version": 3
   },
   "file_extension": ".py",
   "mimetype": "text/x-python",
   "name": "python",
   "nbconvert_exporter": "python",
   "pygments_lexer": "ipython3",
   "version": "3.7.6"
  }
 },
 "nbformat": 4,
 "nbformat_minor": 4
}
