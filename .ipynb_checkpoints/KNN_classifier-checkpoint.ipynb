{
 "cells": [
  {
   "cell_type": "code",
   "execution_count": 1,
   "metadata": {},
   "outputs": [],
   "source": [
    "import numpy as np\n",
    "import matplotlib.pyplot as plt\n",
    "import pandas as pd\n",
    "import time\n",
    "\n",
    "CSVfileName =\"datasets/kdd99-unsupervised-ad.csv\"\n",
    "df = pd.read_csv(CSVfileName, header=None)\n"
   ]
  },
  {
   "cell_type": "code",
   "execution_count": 2,
   "metadata": {},
   "outputs": [
    {
     "name": "stdout",
     "output_type": "stream",
     "text": [
      "    0      1        2    3    4    5    6    7    8    9   ...     20    21  \\\n",
      "0  0.0  321.0    255.0  0.0  1.0  0.0  0.0  0.0  0.0  0.0  ...  255.0  1.00   \n",
      "1  0.0  319.0  15233.0  0.0  1.0  0.0  0.0  0.0  0.0  0.0  ...  255.0  1.00   \n",
      "2  0.0    0.0      0.0  0.0  0.0  0.0  0.0  0.0  0.0  0.0  ...  255.0  1.00   \n",
      "3  0.0  220.0   1109.0  0.0  1.0  0.0  0.0  0.0  0.0  0.0  ...  255.0  1.00   \n",
      "4  0.0  311.0   3222.0  0.0  1.0  0.0  0.0  0.0  0.0  0.0  ...  111.0  0.97   \n",
      "5  0.0  216.0    343.0  0.0  1.0  0.0  0.0  0.0  0.0  0.0  ...  255.0  1.00   \n",
      "6  0.0  241.0   1942.0  0.0  1.0  0.0  0.0  0.0  0.0  0.0  ...  255.0  1.00   \n",
      "7  0.0    0.0      0.0  0.0  0.0  0.0  0.0  0.0  0.0  0.0  ...  248.0  1.00   \n",
      "8  0.0    0.0      0.0  0.0  1.0  0.0  0.0  0.0  0.0  0.0  ...  255.0  1.00   \n",
      "9  0.0  237.0   1421.0  0.0  1.0  0.0  0.0  0.0  0.0  0.0  ...  255.0  1.00   \n",
      "\n",
      "     22    23    24    25    26    27    28  29  \n",
      "0  0.00  0.00  0.00  0.00  0.00  0.00  0.00   n  \n",
      "1  0.00  0.12  0.04  0.00  0.00  0.00  0.00   n  \n",
      "2  0.00  0.01  0.06  0.00  0.00  1.00  1.00   n  \n",
      "3  0.00  0.01  0.01  0.00  0.00  0.00  0.00   n  \n",
      "4  0.02  0.01  0.00  0.00  0.00  0.00  0.00   n  \n",
      "5  0.00  0.01  0.02  0.01  0.01  0.00  0.00   n  \n",
      "6  0.00  0.00  0.02  0.00  0.00  0.00  0.00   n  \n",
      "7  0.00  0.09  0.12  0.00  0.00  1.00  0.98   n  \n",
      "8  0.00  0.18  0.03  0.00  0.00  0.09  0.00   n  \n",
      "9  0.00  0.01  0.05  0.00  0.02  0.00  0.00   n  \n",
      "\n",
      "[10 rows x 30 columns]\n"
     ]
    }
   ],
   "source": [
    "#Shuffle dataset\n",
    "df = df.sample(frac=0.1).reset_index(drop=True)\n",
    "print(df.iloc[0:10])"
   ]
  },
  {
   "cell_type": "code",
   "execution_count": 3,
   "metadata": {},
   "outputs": [
    {
     "name": "stdout",
     "output_type": "stream",
     "text": [
      "['n' 'o']\n"
     ]
    }
   ],
   "source": [
    "#Each data row will have label \"n\" for normal and \"o\" for abnormal data\n",
    "print(df.iloc[:][29].unique())"
   ]
  },
  {
   "cell_type": "code",
   "execution_count": 4,
   "metadata": {},
   "outputs": [
    {
     "name": "stdout",
     "output_type": "stream",
     "text": [
      "Total number of items: 620098\n",
      "Number of normal items: 619046\n",
      "Number of abnormal items: 1052\n"
     ]
    }
   ],
   "source": [
    "num_total = df.iloc[:][29].count()\n",
    "num_normal = list(df.iloc[:][29]).count(\"n\")\n",
    "num_abnormal = list(df.iloc[:][29]).count(\"o\")\n",
    "\n",
    "print(\"Total number of items: \" + str(num_total))\n",
    "print(\"Number of normal items: \" + str(num_normal))\n",
    "print(\"Number of abnormal items: \" + str(num_abnormal))"
   ]
  },
  {
   "cell_type": "code",
   "execution_count": 5,
   "metadata": {},
   "outputs": [],
   "source": [
    "from sklearn import preprocessing\n",
    "dataset1_standardized = df.iloc[:, 0:29] #Drop label columns\n",
    "dataset1_standardized = preprocessing.scale(dataset1_standardized)\n",
    "dataset1_standardized = pd.DataFrame(dataset1_standardized)"
   ]
  },
  {
   "cell_type": "code",
   "execution_count": 6,
   "metadata": {},
   "outputs": [
    {
     "name": "stdout",
     "output_type": "stream",
     "text": [
      "         0         1         2         3         4         5         6   \\\n",
      "0 -0.011629  0.026906 -0.162249 -0.051003  0.309801 -0.020735 -0.017827   \n",
      "1 -0.011629  0.025581  0.469898 -0.051003  0.309801 -0.020735 -0.017827   \n",
      "2 -0.011629 -0.185691 -0.173011 -0.051003 -3.227882 -0.020735 -0.017827   \n",
      "3 -0.011629 -0.039986 -0.126206 -0.051003  0.309801 -0.020735 -0.017827   \n",
      "4 -0.011629  0.020283 -0.037026 -0.051003  0.309801 -0.020735 -0.017827   \n",
      "5 -0.011629 -0.042635 -0.158535 -0.051003  0.309801 -0.020735 -0.017827   \n",
      "6 -0.011629 -0.026078 -0.091049 -0.051003  0.309801 -0.020735 -0.017827   \n",
      "7 -0.011629 -0.185691 -0.173011 -0.051003 -3.227882 -0.020735 -0.017827   \n",
      "8 -0.011629 -0.185691 -0.173011 -0.051003  0.309801 -0.020735 -0.017827   \n",
      "9 -0.011629 -0.028727 -0.113038 -0.051003  0.309801 -0.020735 -0.017827   \n",
      "\n",
      "         7         8         9   ...        19        20        21        22  \\\n",
      "0 -0.003592 -0.003111 -0.073744  ...  1.202128  0.259885  0.098251 -0.083603   \n",
      "1 -0.003592 -0.003111 -0.073744  ... -1.130324  0.259885  0.098251 -0.083603   \n",
      "2 -0.003592 -0.003111 -0.073744  ... -0.280443  0.259885  0.098251 -0.083603   \n",
      "3 -0.003592 -0.003111 -0.073744  ...  0.097282  0.259885  0.098251 -0.083603   \n",
      "4 -0.003592 -0.003111 -0.073744  ... -0.129353 -3.299310 -0.807073  2.016745   \n",
      "5 -0.003592 -0.003111 -0.073744  ...  0.635540  0.259885  0.098251 -0.083603   \n",
      "6 -0.003592 -0.003111 -0.073744  ...  1.051038  0.259885  0.098251 -0.083603   \n",
      "7 -0.003592 -0.003111 -0.073744  ... -1.101995  0.086869  0.098251 -0.083603   \n",
      "8 -0.003592 -0.003111 -0.073744  ... -1.101995  0.259885  0.098251 -0.083603   \n",
      "9 -0.003592 -0.003111 -0.073744  ... -0.459862  0.259885  0.098251 -0.083603   \n",
      "\n",
      "         23        24        25        26        27        28  \n",
      "0 -0.402141 -0.627757 -0.062551 -0.052536 -0.318989 -0.322972  \n",
      "1  0.243672  0.161367 -0.062551 -0.052536 -0.318989 -0.322972  \n",
      "2 -0.348323  0.555929 -0.062551 -0.052536  3.320328  3.400834  \n",
      "3 -0.348323 -0.430476 -0.062551 -0.052536 -0.318989 -0.322972  \n",
      "4 -0.348323 -0.627757 -0.062551 -0.052536 -0.318989 -0.322972  \n",
      "5 -0.348323 -0.233195  0.263241  0.304139 -0.318989 -0.322972  \n",
      "6 -0.402141 -0.233195 -0.062551 -0.052536 -0.318989 -0.322972  \n",
      "7  0.082219  1.739615 -0.062551 -0.052536  3.320328  3.326357  \n",
      "8  0.566579 -0.035914 -0.062551 -0.052536  0.008550 -0.322972  \n",
      "9 -0.348323  0.358648 -0.062551  0.660813 -0.318989 -0.322972  \n",
      "\n",
      "[10 rows x 29 columns]\n"
     ]
    }
   ],
   "source": [
    "print(dataset1_standardized[0:10])"
   ]
  },
  {
   "cell_type": "code",
   "execution_count": 7,
   "metadata": {},
   "outputs": [
    {
     "name": "stdout",
     "output_type": "stream",
     "text": [
      "495240\n",
      "838\n",
      "123806\n",
      "214\n"
     ]
    }
   ],
   "source": [
    "train_ratio = 0.8\n",
    "num_train = int(num_total * train_ratio)\n",
    "num_test = num_total - num_train\n",
    "# print(num_train)\n",
    "# print(num_test)\n",
    "\n",
    "num_train_normal = list(df.iloc[0:num_train][29]).count(\"n\")\n",
    "num_train_abnormal = list(df.iloc[0:num_train][29]).count(\"o\")\n",
    "num_test_normal = list(df.iloc[num_train:][29]).count(\"n\")\n",
    "num_test_abnormal = list(df.iloc[num_train:][29]).count(\"o\")\n",
    "\n",
    "#Check number of normal and abnormal data in train and test data\n",
    "print(num_train_normal)\n",
    "print(num_train_abnormal)\n",
    "print(num_test_normal)\n",
    "print(num_test_abnormal)\n",
    "\n",
    "X_train = dataset1_standardized.iloc[0:num_train]\n",
    "X_test = dataset1_standardized.iloc[num_train:]\n",
    "y_train = df.iloc[0:num_train][29]\n",
    "y_test = df.iloc[num_train:][29]\n",
    "\n",
    "X_train = np.array(X_train)\n",
    "X_test = np.array(X_test)\n",
    "y_train = np.array(y_train)\n",
    "y_test = np.array(y_test)\n",
    "\n"
   ]
  },
  {
   "cell_type": "code",
   "execution_count": null,
   "metadata": {},
   "outputs": [],
   "source": [
    "from sklearn.neighbors import KNeighborsClassifier\n",
    "knn = KNeighborsClassifier(n_neighbors=3)\n",
    "\n",
    "start_time = time.time()\n",
    "knn.fit(X_train, y_train)\n",
    "print(\"--- %s seconds ---\" % (time.time() - start_time))"
   ]
  },
  {
   "cell_type": "code",
   "execution_count": null,
   "metadata": {},
   "outputs": [],
   "source": [
    "knn.predict(X_test)"
   ]
  }
 ],
 "metadata": {
  "kernelspec": {
   "display_name": "Python [conda env:pytorch] *",
   "language": "python",
   "name": "conda-env-pytorch-py"
  },
  "language_info": {
   "codemirror_mode": {
    "name": "ipython",
    "version": 3
   },
   "file_extension": ".py",
   "mimetype": "text/x-python",
   "name": "python",
   "nbconvert_exporter": "python",
   "pygments_lexer": "ipython3",
   "version": "3.7.3"
  }
 },
 "nbformat": 4,
 "nbformat_minor": 2
}
