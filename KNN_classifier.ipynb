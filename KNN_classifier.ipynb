{
 "cells": [
  {
   "cell_type": "code",
   "execution_count": 1,
   "metadata": {},
   "outputs": [],
   "source": [
    "import numpy as np\n",
    "import matplotlib.pyplot as plt\n",
    "import pandas as pd\n",
    "import time\n",
    "\n",
    "CSVfileName =\"datasets/kdd99-unsupervised-ad.csv\"\n",
    "df = pd.read_csv(CSVfileName, header=None)\n"
   ]
  },
  {
   "cell_type": "code",
   "execution_count": 2,
   "metadata": {},
   "outputs": [
    {
     "name": "stdout",
     "output_type": "stream",
     "text": [
      "    0      1        2    3    4    5    6    7    8    9   ...     20    21  \\\n",
      "0  0.0  307.0   1380.0  0.0  1.0  0.0  0.0  0.0  0.0  0.0  ...  244.0  0.96   \n",
      "1  0.0  207.0    539.0  0.0  1.0  0.0  0.0  0.0  0.0  0.0  ...  255.0  1.00   \n",
      "2  0.0  302.0  13204.0  0.0  1.0  0.0  0.0  0.0  0.0  0.0  ...  229.0  1.00   \n",
      "3  0.0  295.0    466.0  0.0  1.0  0.0  0.0  0.0  0.0  0.0  ...  255.0  1.00   \n",
      "4  0.0  224.0   6761.0  0.0  1.0  0.0  0.0  0.0  0.0  0.0  ...  255.0  1.00   \n",
      "5  0.0  237.0  10757.0  0.0  1.0  0.0  0.0  0.0  0.0  0.0  ...  255.0  1.00   \n",
      "6  0.0  224.0    462.0  0.0  1.0  0.0  0.0  0.0  0.0  0.0  ...  255.0  1.00   \n",
      "7  0.0  223.0    488.0  0.0  1.0  0.0  0.0  0.0  0.0  0.0  ...  255.0  1.00   \n",
      "8  0.0  303.0    310.0  0.0  1.0  0.0  0.0  0.0  0.0  0.0  ...  255.0  1.00   \n",
      "9  0.0  231.0   1450.0  0.0  1.0  0.0  0.0  0.0  0.0  0.0  ...  255.0  1.00   \n",
      "\n",
      "     22    23    24    25    26   27    28  29  \n",
      "0  0.02  0.00  0.00  0.00  0.00  0.0  0.00   n  \n",
      "1  0.00  1.00  0.04  0.00  0.00  0.0  0.00   n  \n",
      "2  0.00  0.17  0.07  0.00  0.00  0.0  0.57   n  \n",
      "3  0.00  0.50  0.03  0.00  0.00  0.0  0.00   n  \n",
      "4  0.00  0.02  0.05  0.00  0.00  0.0  0.00   n  \n",
      "5  0.00  0.08  0.04  0.00  0.00  0.0  0.00   n  \n",
      "6  0.00  0.00  0.00  0.00  0.00  0.0  0.00   n  \n",
      "7  0.00  0.00  0.00  0.01  0.01  0.0  0.00   n  \n",
      "8  0.00  0.00  0.00  0.00  0.00  0.0  0.00   n  \n",
      "9  0.00  0.00  0.01  0.00  0.00  0.0  0.00   n  \n",
      "\n",
      "[10 rows x 30 columns]\n"
     ]
    }
   ],
   "source": [
    "#Shuffle dataset\n",
    "df = df.sample(frac=0.1).reset_index(drop=True)\n",
    "print(df.iloc[0:10])"
   ]
  },
  {
   "cell_type": "code",
   "execution_count": 20,
   "metadata": {},
   "outputs": [
    {
     "name": "stdout",
     "output_type": "stream",
     "text": [
      "['n' 'o']\n",
      "Raw labels\n",
      "Total number of items: 62010\n",
      "Number of normal items: 61917\n",
      "Number of abnormal items: 93\n"
     ]
    }
   ],
   "source": [
    "#Each data row will have label \"n\" for normal and \"o\" for abnormal data\n",
    "raw_labels = df.iloc[:][29]\n",
    "print(raw_labels.unique())\n",
    "\n",
    "num_total = df.iloc[:][29].count()\n",
    "num_normal = list(df.iloc[:][29]).count(\"n\")\n",
    "num_abnormal = list(df.iloc[:][29]).count(\"o\")\n",
    "\n",
    "print(\"Raw labels\")\n",
    "print(\"Total number of items: \" + str(num_total))\n",
    "print(\"Number of normal items: \" + str(num_normal))\n",
    "print(\"Number of abnormal items: \" + str(num_abnormal))"
   ]
  },
  {
   "cell_type": "code",
   "execution_count": 18,
   "metadata": {},
   "outputs": [],
   "source": [
    "d = {'n':0, 'o':1}\n",
    "labels = [d[label] for label in raw_labels]"
   ]
  },
  {
   "cell_type": "code",
   "execution_count": 21,
   "metadata": {},
   "outputs": [
    {
     "name": "stdout",
     "output_type": "stream",
     "text": [
      "Processed labels\n",
      "Total number of items: 62010\n",
      "Number of normal items: 61917\n",
      "Number of abnormal items: 93\n"
     ]
    }
   ],
   "source": [
    "num_normal = list(labels).count(0)\n",
    "num_abnormal = list(labels).count(1)\n",
    "\n",
    "print(\"Processed labels\")\n",
    "print(\"Total number of items: \" + str(num_total))\n",
    "print(\"Number of normal items: \" + str(num_normal))\n",
    "print(\"Number of abnormal items: \" + str(num_abnormal))"
   ]
  },
  {
   "cell_type": "code",
   "execution_count": 5,
   "metadata": {},
   "outputs": [],
   "source": [
    "from sklearn import preprocessing\n",
    "dataset1_standardized = df.iloc[:, 0:29] #Drop label columns\n",
    "dataset1_standardized = preprocessing.scale(dataset1_standardized)\n",
    "dataset1_standardized = pd.DataFrame(dataset1_standardized)"
   ]
  },
  {
   "cell_type": "code",
   "execution_count": 6,
   "metadata": {},
   "outputs": [
    {
     "name": "stdout",
     "output_type": "stream",
     "text": [
      "         0         1         2         3         4         5         6   \\\n",
      "0 -0.046653  0.020680 -0.059349 -0.053319  0.309478 -0.023085 -0.017962   \n",
      "1 -0.046653 -0.048300 -0.076740 -0.053319  0.309478 -0.023085 -0.017962   \n",
      "2 -0.046653  0.017231  0.185151 -0.053319  0.309478 -0.023085 -0.017962   \n",
      "3 -0.046653  0.012403 -0.078249 -0.053319  0.309478 -0.023085 -0.017962   \n",
      "4 -0.046653 -0.036574  0.051921 -0.053319  0.309478 -0.023085 -0.017962   \n",
      "5 -0.046653 -0.027606  0.134551 -0.053319  0.309478 -0.023085 -0.017962   \n",
      "6 -0.046653 -0.036574 -0.078332 -0.053319  0.309478 -0.023085 -0.017962   \n",
      "7 -0.046653 -0.037263 -0.077794 -0.053319  0.309478 -0.023085 -0.017962   \n",
      "8 -0.046653  0.017921 -0.081475 -0.053319  0.309478 -0.023085 -0.017962   \n",
      "9 -0.046653 -0.031745 -0.057902 -0.053319  0.309478 -0.023085 -0.017962   \n",
      "\n",
      "         7    8         9   ...        19        20        21        22  \\\n",
      "0 -0.004016  0.0 -0.076202  ...  1.197752 -0.009779 -1.175301  2.175691   \n",
      "1 -0.004016  0.0 -0.076202  ... -1.197794  0.261866  0.098392 -0.085283   \n",
      "2 -0.004016  0.0 -0.076202  ... -1.150638 -0.380204  0.098392 -0.085283   \n",
      "3 -0.004016  0.0 -0.076202  ... -1.188363  0.261866  0.098392 -0.085283   \n",
      "4 -0.004016  0.0 -0.076202  ... -0.697936  0.261866  0.098392 -0.085283   \n",
      "5 -0.004016  0.0 -0.076202  ... -1.084619  0.261866  0.098392 -0.085283   \n",
      "6 -0.004016  0.0 -0.076202  ...  1.197752  0.261866  0.098392 -0.085283   \n",
      "7 -0.004016  0.0 -0.076202  ...  1.197752  0.261866  0.098392 -0.085283   \n",
      "8 -0.004016  0.0 -0.076202  ...  1.197752  0.261866  0.098392 -0.085283   \n",
      "9 -0.004016  0.0 -0.076202  ...  0.792206  0.261866  0.098392 -0.085283   \n",
      "\n",
      "         23        24        25        26        27        28  \n",
      "0 -0.401767 -0.623240 -0.061581 -0.051653 -0.318945 -0.322470  \n",
      "1  4.965484  0.160808 -0.061581 -0.051653 -0.318945 -0.322470  \n",
      "2  0.510665  0.748844 -0.061581 -0.051653 -0.318945  1.804318  \n",
      "3  2.281858 -0.035204 -0.061581 -0.051653 -0.318945 -0.322470  \n",
      "4 -0.294422  0.356820 -0.061581 -0.051653 -0.318945 -0.322470  \n",
      "5  0.027613  0.160808 -0.061581 -0.051653 -0.318945 -0.322470  \n",
      "6 -0.401767 -0.623240 -0.061581 -0.051653 -0.318945 -0.322470  \n",
      "7 -0.401767 -0.623240  0.292655  0.339623 -0.318945 -0.322470  \n",
      "8 -0.401767 -0.623240 -0.061581 -0.051653 -0.318945 -0.322470  \n",
      "9 -0.401767 -0.427228 -0.061581 -0.051653 -0.318945 -0.322470  \n",
      "\n",
      "[10 rows x 29 columns]\n"
     ]
    }
   ],
   "source": [
    "print(dataset1_standardized[0:10])"
   ]
  },
  {
   "cell_type": "code",
   "execution_count": 24,
   "metadata": {},
   "outputs": [
    {
     "name": "stdout",
     "output_type": "stream",
     "text": [
      "49531\n",
      "77\n",
      "12386\n",
      "16\n"
     ]
    }
   ],
   "source": [
    "train_ratio = 0.8\n",
    "num_train = int(num_total * train_ratio)\n",
    "num_test = num_total - num_train\n",
    "# print(num_train)\n",
    "# print(num_test)\n",
    "\n",
    "num_train_normal = list(labels[0:num_train]).count(0)\n",
    "num_train_abnormal = list(labels[0:num_train]).count(1)\n",
    "num_test_normal = list(labels[num_train:]).count(0)\n",
    "num_test_abnormal = list(labels[num_train:]).count(1)\n",
    "\n",
    "#Check number of normal and abnormal data in train and test data\n",
    "print(num_train_normal)\n",
    "print(num_train_abnormal)\n",
    "print(num_test_normal)\n",
    "print(num_test_abnormal)\n",
    "\n",
    "X_train = dataset1_standardized.iloc[0:num_train]\n",
    "X_test = dataset1_standardized.iloc[num_train:]\n",
    "y_train = labels[0:num_train]\n",
    "y_test = labels[num_train:]\n",
    "\n",
    "X_train = np.array(X_train)\n",
    "X_test = np.array(X_test)\n",
    "y_train = np.array(y_train)\n",
    "y_test = np.array(y_test)\n",
    "\n"
   ]
  },
  {
   "cell_type": "code",
   "execution_count": 25,
   "metadata": {},
   "outputs": [
    {
     "name": "stdout",
     "output_type": "stream",
     "text": [
      "--- 6.933089733123779 seconds ---\n"
     ]
    }
   ],
   "source": [
    "from sklearn.neighbors import KNeighborsClassifier\n",
    "knn = KNeighborsClassifier(n_neighbors=3)\n",
    "\n",
    "start_time = time.time()\n",
    "knn.fit(X_train, y_train)\n",
    "print(\"--- %s seconds ---\" % (time.time() - start_time))"
   ]
  },
  {
   "cell_type": "code",
   "execution_count": 26,
   "metadata": {},
   "outputs": [],
   "source": [
    "pred = knn.predict(X_test)"
   ]
  },
  {
   "cell_type": "code",
   "execution_count": 47,
   "metadata": {},
   "outputs": [
    {
     "name": "stdout",
     "output_type": "stream",
     "text": [
      "Accuracy: 1.0\n"
     ]
    }
   ],
   "source": [
    "print(\"Accuracy: \" + str((pred == y_test).sum() / num_test))"
   ]
  },
  {
   "cell_type": "code",
   "execution_count": 62,
   "metadata": {},
   "outputs": [
    {
     "name": "stdout",
     "output_type": "stream",
     "text": [
      "KNN with k = 1\n",
      "Accuracy: 0.9999193678438961\n",
      "KNN with k = 2\n",
      "Accuracy: 1.0\n",
      "KNN with k = 3\n",
      "Accuracy: 1.0\n",
      "KNN with k = 4\n",
      "Accuracy: 1.0\n",
      "KNN with k = 5\n",
      "Accuracy: 1.0\n",
      "--- 198.36734247207642 seconds ---\n"
     ]
    }
   ],
   "source": [
    "start_time = time.time()\n",
    "for k in range(1,6):\n",
    "    print(\"KNN with k = \" + str(k))\n",
    "    knn = KNeighborsClassifier(n_neighbors=k)\n",
    "    knn.fit(X_train, y_train)\n",
    "    pred = knn.predict(X_test)\n",
    "    print(\"Accuracy: \" + str((pred == y_test).sum() / num_test))\n",
    "print(\"--- %s seconds ---\" % (time.time() - start_time))\n",
    "    \n",
    "    "
   ]
  }
 ],
 "metadata": {
  "kernelspec": {
   "display_name": "Python [conda env:pytorch] *",
   "language": "python",
   "name": "conda-env-pytorch-py"
  },
  "language_info": {
   "codemirror_mode": {
    "name": "ipython",
    "version": 3
   },
   "file_extension": ".py",
   "mimetype": "text/x-python",
   "name": "python",
   "nbconvert_exporter": "python",
   "pygments_lexer": "ipython3",
   "version": "3.7.3"
  }
 },
 "nbformat": 4,
 "nbformat_minor": 2
}
